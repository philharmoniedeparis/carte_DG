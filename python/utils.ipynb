{
 "cells": [
  {
   "cell_type": "code",
   "execution_count": 1,
   "id": "aa1cf556-af3d-4bb6-a10c-ef08dae9d974",
   "metadata": {},
   "outputs": [],
   "source": [
    "import pandas as pd\n",
    "import requests\n",
    "import json"
   ]
  },
  {
   "cell_type": "markdown",
   "id": "ec56f039-d92e-48eb-adb6-4455f2acc0b4",
   "metadata": {},
   "source": [
    "## Get Data from API"
   ]
  },
  {
   "cell_type": "code",
   "execution_count": 2,
   "id": "f8a0f232-06ee-4e1e-857d-08b6507f3774",
   "metadata": {},
   "outputs": [],
   "source": [
    "html = \"https://otoplayer.philharmoniedeparis.fr/content/misc/getMapGlobalData.ashx\"\n",
    "r = requests.get(html)"
   ]
  },
  {
   "cell_type": "code",
   "execution_count": 3,
   "id": "a1574c53-d5cf-4c7c-938a-57f3d2f965af",
   "metadata": {},
   "outputs": [],
   "source": [
    "#correct_text = r.text.rstrip(\",]\") + \"]\"\n",
    "#data = json.loads(correct_text)\n",
    "\n",
    "data = json.loads(r.text)"
   ]
  },
  {
   "cell_type": "code",
   "execution_count": 4,
   "id": "74ff6d10-4c45-4ecb-8802-aef22cd89c82",
   "metadata": {},
   "outputs": [],
   "source": [
    "with open('data.json', 'w') as f:\n",
    "    json.dump(data, f)"
   ]
  },
  {
   "cell_type": "markdown",
   "id": "4897e425-5780-4398-a768-6f0d788111cb",
   "metadata": {},
   "source": [
    "## Analyze Data"
   ]
  },
  {
   "cell_type": "code",
   "execution_count": 9,
   "id": "34bb8ecc-36e3-45b8-b94f-499e17d57ef7",
   "metadata": {},
   "outputs": [],
   "source": [
    "f = open('dataField.json')\n",
    "json = json.load(f)"
   ]
  },
  {
   "cell_type": "code",
   "execution_count": 10,
   "id": "57380926-a6fa-4780-8e76-16a378b586b1",
   "metadata": {},
   "outputs": [],
   "source": [
    "df = pd.DataFrame(dict([ (k,pd.Series(v)) for k,v in df.items() ]))"
   ]
  },
  {
   "cell_type": "code",
   "execution_count": 15,
   "id": "d231fb04-d297-4e93-9566-7e3131c9db14",
   "metadata": {},
   "outputs": [],
   "source": [
    "df.to_excel('output.xlsx', engine='xlsxwriter', index=False)  "
   ]
  },
  {
   "cell_type": "code",
   "execution_count": null,
   "id": "7e1ce004-2e79-43f1-b04f-11e939d2e9e9",
   "metadata": {},
   "outputs": [],
   "source": []
  }
 ],
 "metadata": {
  "kernelspec": {
   "display_name": "Python 3 (ipykernel)",
   "language": "python",
   "name": "python3"
  },
  "language_info": {
   "codemirror_mode": {
    "name": "ipython",
    "version": 3
   },
   "file_extension": ".py",
   "mimetype": "text/x-python",
   "name": "python",
   "nbconvert_exporter": "python",
   "pygments_lexer": "ipython3",
   "version": "3.12.0"
  }
 },
 "nbformat": 4,
 "nbformat_minor": 5
}
